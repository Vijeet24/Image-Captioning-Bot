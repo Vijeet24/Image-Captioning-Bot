{
 "cells": [
  {
   "cell_type": "code",
   "execution_count": null,
   "metadata": {},
   "outputs": [],
   "source": [
    "def read_text_files(path):\n",
    "    with open(path) as f:\n",
    "        captions = f.read()\n",
    "        \n",
    "    return captions\n",
    "        "
   ]
  },
  {
   "cell_type": "code",
   "execution_count": null,
   "metadata": {},
   "outputs": [],
   "source": [
    "import pandas as pd \n",
    "import numpy as np\n",
    "import matplotlib.pyplot as plt\n",
    "import keras \n",
    "import re\n",
    "import nltk\n",
    "from nltk.corpus import stopwards\n",
    "import string \n",
    "import json\n",
    "from time import time \n",
    "import pickle\n",
    "from keras.applications.vgg16 import VGG16\n",
    "from keras.applications.resNet50 import resNet , preprocess_input\n",
    "from keras.preprossing import image , pad_sequences\n",
    "from keras.model import Models , load_model\n",
    "from keras.utils import to_categorical\n",
    "from keras.layers import Dense ,LSTM , Embedding , Input , Dropout\n",
    "from keras.model.merge import add"
   ]
  },
  {
   "cell_type": "code",
   "execution_count": null,
   "metadata": {},
   "outputs": [],
   "source": [
    "captions = read_text_files(\"path of test data file\")\n",
    "captions = captions.split('\\n')[:-1]"
   ]
  },
  {
   "cell_type": "code",
   "execution_count": null,
   "metadata": {},
   "outputs": [],
   "source": [
    "print(len(captions))"
   ]
  },
  {
   "cell_type": "code",
   "execution_count": null,
   "metadata": {},
   "outputs": [],
   "source": [
    "#dictionary to match each image with caption \n",
    "descriptions = {}\n",
    "\n",
    "for x in captions:\n",
    "    first , second = x.split('\\t')\n",
    "    img_name = first.split(.)[0]\n",
    "    \n",
    "    if descriptions.get(img_name) is none :\n",
    "        descriptions[img_name] = []\n",
    "        \n",
    "    descriptions[img_name].append(second)\n",
    "    "
   ]
  },
  {
   "cell_type": "code",
   "execution_count": null,
   "metadata": {},
   "outputs": [],
   "source": [
    "descriptions[#imd_id]"
   ]
  },
  {
   "cell_type": "code",
   "execution_count": null,
   "metadata": {},
   "outputs": [],
   "source": [
    "IMG_PATH = './datsets.img'"
   ]
  },
  {
   "cell_type": "code",
   "execution_count": null,
   "metadata": {},
   "outputs": [],
   "source": [
    "import cv2\n",
    "import matplotlib.pyplot as plt"
   ]
  },
  {
   "cell_type": "code",
   "execution_count": null,
   "metadata": {},
   "outputs": [],
   "source": [
    "img = cv2.read(IMG_PATH + '#image_id')\n",
    "img = img.cvtColor(img,cv2.BGR2RGB)\n",
    "plt.imshow(img)\n",
    "plt.axis('off')\n",
    "plt.show()"
   ]
  },
  {
   "cell_type": "code",
   "execution_count": null,
   "metadata": {},
   "outputs": [],
   "source": [
    "#Data Cleaning\n",
    "def clean_text(sentence):\n",
    "    sentence = sentence.lower()\n",
    "    sentence = re.sub('^a-z',' ',sentences)\n",
    "    sentence = sentence.split()\n",
    "    \n",
    "    sentences = [s for s in sentences if len(s)>1]\n",
    "    sentences.join(sentences)\n",
    "    \n",
    "    return sentences"
   ]
  },
  {
   "cell_type": "code",
   "execution_count": null,
   "metadata": {},
   "outputs": [],
   "source": [
    "for key,caption_list in descriptions.items():\n",
    "    for i in range(len(caption_list)):\n",
    "        caption_list = clean_text(caption_list)\n",
    "        "
   ]
  },
  {
   "cell_type": "code",
   "execution_count": null,
   "metadata": {},
   "outputs": [],
   "source": [
    "description['#img_id']"
   ]
  },
  {
   "cell_type": "code",
   "execution_count": null,
   "metadata": {},
   "outputs": [],
   "source": [
    "#write data to text file\n",
    "f = open(\"descriptions.txt\" , \"w\")\n",
    "f.write(str(descriptions))\n",
    "f.close"
   ]
  },
  {
   "cell_type": "code",
   "execution_count": null,
   "metadata": {},
   "outputs": [],
   "source": [
    "#Vocabulary"
   ]
  },
  {
   "cell_type": "code",
   "execution_count": null,
   "metadata": {},
   "outputs": [],
   "source": [
    "#load_data_from_file\n",
    "\n",
    "descriptions = None\n",
    "with open(\"descriptions.txt\",f) as f:\n",
    "    descriptions = f.read()\n",
    "    \n",
    "json_acceptable_str = descriptions.replace(\"'\" , \"/\")\n",
    "descriptions  = json.loads(json_acceptable_str)"
   ]
  },
  {
   "cell_type": "code",
   "execution_count": null,
   "metadata": {},
   "outputs": [],
   "source": [
    "print(type(descriptions))"
   ]
  },
  {
   "cell_type": "code",
   "execution_count": null,
   "metadata": {},
   "outputs": [],
   "source": [
    "#vocab\n",
    "vocab = set()\n",
    "for keys in descriptions.keys():\n",
    "    [vocab.update(sentence.split()) for sentences in description[key]]\n",
    "     \n",
    "print(\"vocab size : %\" %vocab)"
   ]
  },
  {
   "cell_type": "code",
   "execution_count": null,
   "metadata": {},
   "outputs": [],
   "source": [
    "total_words = []\n",
    "\n",
    "for keys in descriptions.keys():\n",
    "    [total_words.append(i) for des in description[keys] for i in des.split()]\n",
    "    \n",
    "print(\"total words = %\" %len(total_words))"
   ]
  },
  {
   "cell_type": "code",
   "execution_count": null,
   "metadata": {},
   "outputs": [],
   "source": [
    "import collections \n",
    "counter = collections.counter(total_words)\n",
    "freq_cnt = dict(counter)\n",
    "\n",
    "print(freq_cnt)"
   ]
  },
  {
   "cell_type": "code",
   "execution_count": null,
   "metadata": {},
   "outputs": [],
   "source": [
    "sorted_freq_cnt = sorted(freq_cnt.items(),reverse =True , key=lambda x:x[1])"
   ]
  },
  {
   "cell_type": "code",
   "execution_count": null,
   "metadata": {},
   "outputs": [],
   "source": [
    "threshold = 10\n",
    "\n",
    "sorted_freq_cnt = [x for x in sorted_freq_cnt if x[1]>threshold]\n",
    "total_words = [x[0] for x in sorted_freq_cnt]"
   ]
  },
  {
   "cell_type": "code",
   "execution_count": null,
   "metadata": {},
   "outputs": [],
   "source": [
    "#prepare train and test data"
   ]
  },
  {
   "cell_type": "code",
   "execution_count": null,
   "metadata": {},
   "outputs": [],
   "source": [
    "train_file_data = readtextfile(\"location of file .txt\")\n",
    "test_file_data = readtextfile(\"location of file .txt\")"
   ]
  },
  {
   "cell_type": "code",
   "execution_count": null,
   "metadata": {},
   "outputs": [],
   "source": [
    "train = [row.split('.')[0] for row in train_file_data.split('/n')[:-1]]\n",
    "test = [row.split('.')[0] for row in test_file_data.split('/n'[:-1])]"
   ]
  },
  {
   "cell_type": "code",
   "execution_count": null,
   "metadata": {},
   "outputs": [],
   "source": [
    "train[:10]"
   ]
  },
  {
   "cell_type": "code",
   "execution_count": null,
   "metadata": {},
   "outputs": [],
   "source": [
    "#add a start and end token to training data\n",
    "train_descriptions = {}\n",
    "\n",
    "for img_id in train:\n",
    "    train_descriptions[img_id] = []\n",
    "for cap  in descriptions[img_id]:\n",
    "    cap_to_apppend = \"Start_Seq \" + cap = \" End_seq\"\n",
    "    train_descriptions[imd_id].append(cap_to_append)\n",
    "    "
   ]
  },
  {
   "cell_type": "code",
   "execution_count": null,
   "metadata": {},
   "outputs": [],
   "source": [
    "train_descriptions[#img_id]"
   ]
  },
  {
   "cell_type": "code",
   "execution_count": 1,
   "metadata": {},
   "outputs": [],
   "source": [
    "#image-features-extraction\n",
    "model = ResNet(weights = \"image_net\" , input_size = (224,224,3))\n",
    "model.summary()"
   ]
  },
  {
   "cell_type": "code",
   "execution_count": null,
   "metadata": {},
   "outputs": [],
   "source": [
    "model = model(model.input,model.layers[-2].output)"
   ]
  },
  {
   "cell_type": "code",
   "execution_count": null,
   "metadata": {},
   "outputs": [],
   "source": [
    "def preprocess_img(img):\n",
    "    \n",
    "    img = image.load_img(img ,input_size = (224,224))\n",
    "    img = image.img_to_array(img)\n",
    "    img = np.expand_dims(img,axis = 0)\n",
    "    \n",
    "    img = preprocess_input(img)\n",
    "    \n",
    "    return img \n",
    "    "
   ]
  },
  {
   "cell_type": "code",
   "execution_count": null,
   "metadata": {},
   "outputs": [],
   "source": [
    "img = preprocess_img(IMG_PATH + \"#img_id\")\n",
    "plt.plot.imshow(img)\n",
    "plt.axis(\"off\")\n",
    "plt.show()"
   ]
  },
  {
   "cell_type": "code",
   "execution_count": null,
   "metadata": {},
   "outputs": [],
   "source": [
    "def encode_image(img):\n",
    "    img = preprocess_img(img)\n",
    "    feature_vector = model_new.predict(img)\n",
    "    print(feature_vector.shape())\n",
    "    \n",
    "    feature_vector.reshape((-1,))\n",
    "    return feature_vector\n",
    "    "
   ]
  },
  {
   "cell_type": "code",
   "execution_count": null,
   "metadata": {},
   "outputs": [],
   "source": [
    "encode_img(IMG_PATH + \"#img_id\")"
   ]
  },
  {
   "cell_type": "code",
   "execution_count": null,
   "metadata": {},
   "outputs": [],
   "source": [
    "start = time()\n",
    "\n",
    "encoding_train ={}\n",
    "\n",
    "for ix ,img_id in enumerate(train):\n",
    "    img_path = IMG_PATH + \"/\" + img_id + \".jpg\"\n",
    "    encoding_train[img_id] = encode_img(img_path)\n",
    "    \n",
    "    if xi%100==0:\n",
    "        print(\"encoding in process time step %d\" %xi)\n",
    "        \n",
    "end_t = time() \n",
    "\n",
    "print(\"total time taken :\",end_t - start)"
   ]
  },
  {
   "cell_type": "code",
   "execution_count": null,
   "metadata": {},
   "outputs": [],
   "source": [
    "#store everything on disk\n",
    "\n",
    "with open('encoded_train_feature.pkl' ,\"wb\"):\n",
    "    pickle.dump(encoded_train,f)\n",
    "    \n",
    "    "
   ]
  },
  {
   "cell_type": "code",
   "execution_count": null,
   "metadata": {},
   "outputs": [],
   "source": [
    "start = time()\n",
    "\n",
    "encoding_test ={}\n",
    "\n",
    "for ix ,img_id in enumerate(test):\n",
    "    img_path = IMG_PATH + \"/\" + img_id + \".jpg\"\n",
    "    encoding_test[img_id] = encode_img(img_path)\n",
    "    \n",
    "    if xi%100==0:\n",
    "        print(\"encoding in process time step %d\" %xi)\n",
    "        \n",
    "end_t = time() \n",
    "\n",
    "print(\"total time taken :\",end_t - start)\n",
    "        \n",
    "    \n",
    "    \n"
   ]
  },
  {
   "cell_type": "code",
   "execution_count": null,
   "metadata": {},
   "outputs": [],
   "source": [
    "with open('encoded_test_feature.pkl' ,\"wb\"):\n",
    "        pickle.dump(encoded_test,f)\n",
    "\n"
   ]
  },
  {
   "cell_type": "code",
   "execution_count": null,
   "metadata": {},
   "outputs": [],
   "source": [
    "#data preprocesssing for captions\n",
    "\n",
    "len(total_words)"
   ]
  },
  {
   "cell_type": "code",
   "execution_count": null,
   "metadata": {},
   "outputs": [],
   "source": [
    "word_to_idx = {}\n",
    "ind_to_word = {}\n",
    "\n",
    "for i ,words in enumerate(total_words):\n",
    "    word_to_idx[word] = i +1\n",
    "    idx_to_word[i + 1] = word"
   ]
  },
  {
   "cell_type": "code",
   "execution_count": null,
   "metadata": {},
   "outputs": [],
   "source": [
    "word_to_idx['dog']\n",
    "idx_to_word[1]\n",
    "print(len(idx_to_word))"
   ]
  },
  {
   "cell_type": "code",
   "execution_count": null,
   "metadata": {},
   "outputs": [],
   "source": [
    "idx_to_word[1846] = 'start_seq'\n",
    "word_to_idx['start_seq'] = 1846\n",
    "\n",
    "word_to_idx[1847] = 'end_seq'\n",
    "idx_to_word['end_seq'] = 1847\n",
    "\n",
    "voacb_size = len(word_to_idx) + 1\n",
    "print(\"vocab_size\" , vocab_size)"
   ]
  },
  {
   "cell_type": "code",
   "execution_count": null,
   "metadata": {},
   "outputs": [],
   "source": [
    "max_len = []\n",
    "\n",
    "for key in train_descriptions.key():\n",
    "    for caps in train_description[keys]:\n",
    "        max_length = max(max_length,len(cap.split()))\n",
    "        \n",
    "print(max_len)\n",
    "                         "
   ]
  },
  {
   "cell_type": "code",
   "execution_count": null,
   "metadata": {},
   "outputs": [],
   "source": [
    "#Data Loader(Generator)\n",
    "\n",
    "def data_generator(train_descriptions, encoding_train ,max_len , word_to_idx ,batch_size):\n",
    "    X1,X2,y = [],[],[]\n",
    "    \n",
    "    n =0 \n",
    "    while True :\n",
    "        for key ,desc_list in train_descriptions.items():\n",
    "            n +=1\n",
    "            \n",
    "            photo = encoding_train[key + '.jpg']\n",
    "            \n",
    "            for desc in desc_list:s\n",
    "                seq = [word_to_idx[word] for word in desc.split() for word in word_to_idx]\n",
    "                \n",
    "                Xi = seq[:i]\n",
    "                Yi = seq[i]\n",
    "                \n",
    "                Xi = pad_sequence([xi],maxlen = max_len , value = 0 , padding = 'post')[0]\n",
    "                Yi = to_categorical([yi],num_classes = n_vocab)[0]\n",
    "                \n",
    "                X1.append(photo)\n",
    "                X2.append(xi)\n",
    "                y.append(yi)"
   ]
  },
  {
   "cell_type": "code",
   "execution_count": null,
   "metadata": {},
   "outputs": [],
   "source": [
    "if n == batch_size:\n",
    "    yield [[np.array(X1),np.array(X2)],np.array(y)]\n",
    "    \n",
    "    X1,X2,y = [], [] , []\n",
    "    n = 0"
   ]
  },
  {
   "cell_type": "code",
   "execution_count": null,
   "metadata": {},
   "outputs": [],
   "source": [
    "#Word_embeddings\n",
    "f = open(\"#glove_vector_file . txt\", encoding = 'utf8')"
   ]
  },
  {
   "cell_type": "code",
   "execution_count": null,
   "metadata": {},
   "outputs": [],
   "source": [
    "embedding_idx = {}\n",
    "\n",
    "for line in f:\n",
    "    \n",
    "    values = lines.split()\n",
    "    word = values[0]\n",
    "    word_embedding = np.array(values[1:] ,dtype = 'float')\n",
    "    embedding_idx[word] = embedding_idx"
   ]
  },
  {
   "cell_type": "code",
   "execution_count": null,
   "metadata": {},
   "outputs": [],
   "source": [
    "embedding_idx['apple']"
   ]
  },
  {
   "cell_type": "code",
   "execution_count": null,
   "metadata": {},
   "outputs": [],
   "source": [
    "def get_embedding_matrix():\n",
    "    \n",
    "    emb_dim = 50\n",
    "    matrix = np.zeroes((vocab_size,emb_dim))\n",
    "    \n",
    "    for word,idx in word_to_idx.items():\n",
    "        embedding_vector = embedding_index.get(word)\n",
    "        \n",
    "        if embedding_vector is not None:\n",
    "            matrix[idx] = embedding_vector\n",
    "            \n",
    "    return matrix"
   ]
  },
  {
   "cell_type": "code",
   "execution_count": null,
   "metadata": {},
   "outputs": [],
   "source": [
    "embedding_matrix = get_embedding_matrix()\n",
    "embedding_matrix.shape()"
   ]
  },
  {
   "cell_type": "markdown",
   "metadata": {},
   "source": [
    "# Model_Architecture "
   ]
  },
  {
   "cell_type": "code",
   "execution_count": null,
   "metadata": {},
   "outputs": [],
   "source": [
    "input_img_features = Input(shape=(2048,))\n",
    "inp_img1 = Dropout(0.3)(input_img_features)\n",
    "inp_img2 = dense(256 , activation = 'relu')inp_img1"
   ]
  },
  {
   "cell_type": "code",
   "execution_count": null,
   "metadata": {},
   "outputs": [],
   "source": [
    "input_captions = Input(shape=(maxlen,))\n",
    "inp_cap1 = embedding(inp_dim = vocab_size , out_dim = 50 , mask_zero = True)(input_captions)\n",
    "inp_cap2 = Dropout(0.3)(inp_cap1)\n",
    "inp_cap3 = LSTM(256)(inp_cap2)"
   ]
  },
  {
   "cell_type": "code",
   "execution_count": null,
   "metadata": {},
   "outputs": [],
   "source": [
    "decoder1 =add([inp_img2 , inp_cap3])\n",
    "decoder2 = dense(256 , activation = 'relu')(decoder1)\n",
    "outputs = dense(vocab_size,activation = 'softmax')(decoder2)"
   ]
  },
  {
   "cell_type": "code",
   "execution_count": null,
   "metadata": {},
   "outputs": [],
   "source": [
    "model = Model(input = [input_img_features,input_captions] , output = outputs)"
   ]
  },
  {
   "cell_type": "code",
   "execution_count": null,
   "metadata": {},
   "outputs": [],
   "source": [
    "model.summary()"
   ]
  },
  {
   "cell_type": "code",
   "execution_count": null,
   "metadata": {},
   "outputs": [],
   "source": [
    "model.layers[2].set_weights([ambedding_matrix])\n",
    "model.layers[2].trainable = False"
   ]
  },
  {
   "cell_type": "code",
   "execution_count": null,
   "metadata": {},
   "outputs": [],
   "source": [
    "model = Model.compile(loss = 'categorical_cross_entropy' , optimizer = 'adam')"
   ]
  },
  {
   "cell_type": "markdown",
   "metadata": {},
   "source": [
    "# Training of Model"
   ]
  },
  {
   "cell_type": "code",
   "execution_count": null,
   "metadata": {},
   "outputs": [],
   "source": [
    "epochs = 20\n",
    "batch_size = 3 \n",
    "step = len(train_descriptions)//number_pics_per_batch"
   ]
  },
  {
   "cell_type": "code",
   "execution_count": null,
   "metadata": {},
   "outputs": [],
   "source": [
    "def train():\n",
    "    for i in range(epochs):\n",
    "        generator = data_generator(train_descriptions ,encoding_train,word_to_idx,max_len, batch_size)\n",
    "        model.fit_generator(generator , epochs = 1 , steps_per_epochs = steps,verbos = 1)\n",
    "        model.save(\"./model_weights/model_' + str(i) + 'h5')"
   ]
  },
  {
   "cell_type": "code",
   "execution_count": null,
   "metadata": {},
   "outputs": [],
   "source": [
    "model = load_model(\"./model_weights/model_9.h5\")"
   ]
  },
  {
   "cell_type": "markdown",
   "metadata": {},
   "source": [
    "# Predictions"
   ]
  },
  {
   "cell_type": "code",
   "execution_count": null,
   "metadata": {},
   "outputs": [],
   "source": [
    "def predict_caption(photo):\n",
    "    \n",
    "    in_text = \"startseq\"\n",
    "    for i in range(max_len):\n",
    "        sequence = [word_to_idx[w] for w in intext.split() if w in word_to_idx]\n",
    "        sequence = pad_sequence([sequence],maxlen=max_len,padding='post')\n",
    "        \n",
    "        ypred = model.predict([photo,sequence])\n",
    "        ypred = ypred.argmax()\n",
    "        word = idx_to_word[ypred]\n",
    "        in_text = ' ' + word\n",
    "        \n",
    "        if word == 'endseq':\n",
    "            break\n",
    "            \n",
    "    final_caption = in_text.split()[1:-1]\n",
    "    final_caption = ' '.join(final_caption)\n",
    "    \n",
    "    return final_caption\n",
    "        "
   ]
  },
  {
   "cell_type": "code",
   "execution_count": null,
   "metadata": {},
   "outputs": [],
   "source": [
    "#pick some random image and see results \n",
    "\n",
    "for i in range(15):\n",
    "    idx = np.random.randint(0,1000)\n",
    "    all_img_names = list(encoding_test.keys())\n",
    "    img_name = all_img_names[idx]\n",
    "    photo_2048 = emcoding_test[img_name].reshape((1,2048))\n",
    "    \n",
    "    i = plt.imread(\"Data/Images/\"+img_name+\".jpg\")\n",
    "    plt.imshow(i)\n",
    "    plt.show()"
   ]
  },
  {
   "cell_type": "code",
   "execution_count": null,
   "metadata": {},
   "outputs": [],
   "source": []
  },
  {
   "cell_type": "code",
   "execution_count": null,
   "metadata": {},
   "outputs": [],
   "source": []
  },
  {
   "cell_type": "code",
   "execution_count": null,
   "metadata": {},
   "outputs": [],
   "source": []
  },
  {
   "cell_type": "code",
   "execution_count": null,
   "metadata": {},
   "outputs": [],
   "source": []
  },
  {
   "cell_type": "code",
   "execution_count": null,
   "metadata": {},
   "outputs": [],
   "source": []
  },
  {
   "cell_type": "code",
   "execution_count": null,
   "metadata": {},
   "outputs": [],
   "source": []
  },
  {
   "cell_type": "code",
   "execution_count": null,
   "metadata": {},
   "outputs": [],
   "source": []
  }
 ],
 "metadata": {
  "kernelspec": {
   "display_name": "Python 3",
   "language": "python",
   "name": "python3"
  },
  "language_info": {
   "codemirror_mode": {
    "name": "ipython",
    "version": 3
   },
   "file_extension": ".py",
   "mimetype": "text/x-python",
   "name": "python",
   "nbconvert_exporter": "python",
   "pygments_lexer": "ipython3",
   "version": "3.8.5"
  }
 },
 "nbformat": 4,
 "nbformat_minor": 4
}
